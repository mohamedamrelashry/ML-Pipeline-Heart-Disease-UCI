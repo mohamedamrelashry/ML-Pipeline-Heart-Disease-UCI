{
 "cells": [
  {
   "cell_type": "code",
   "execution_count": 1,
   "id": "b89a58ef",
   "metadata": {},
   "outputs": [],
   "source": [
    "\n",
    "import pandas as pd\n",
    "from sklearn.model_selection import GridSearchCV, RandomizedSearchCV\n",
    "from sklearn.ensemble import RandomForestClassifier\n",
    "from sklearn.svm import SVC\n",
    "import joblib"
   ]
  },
  {
   "cell_type": "code",
   "execution_count": 2,
   "id": "615ec1e7",
   "metadata": {},
   "outputs": [],
   "source": [
    "df = pd.read_csv('data/heart_reduced.csv')\n",
    "X = df.drop(columns=['target'])\n",
    "y = df['target']\n"
   ]
  },
  {
   "cell_type": "code",
   "execution_count": 3,
   "id": "c4e53c96",
   "metadata": {},
   "outputs": [
    {
     "name": "stdout",
     "output_type": "stream",
     "text": [
      "Best RF params: {'max_depth': 5, 'min_samples_split': 10, 'n_estimators': 200}\n",
      "Best RF AUC: 0.9118451378868044\n",
      "Saved best Random Forest model.\n"
     ]
    }
   ],
   "source": [
    "\n",
    "# --- Random Forest Tuning ---\n",
    "rf = RandomForestClassifier(random_state=42)\n",
    "param_grid = {\n",
    "    'n_estimators': [100, 200, 400],\n",
    "    'max_depth': [None, 5, 10, 20],\n",
    "    'min_samples_split': [2, 5, 10]\n",
    "}\n",
    "\n",
    "gs = GridSearchCV(rf, param_grid, cv=5, scoring='roc_auc', n_jobs=-1)\n",
    "gs.fit(X, y)\n",
    "print('Best RF params:', gs.best_params_)\n",
    "print('Best RF AUC:', gs.best_score_)\n",
    "\n",
    "# Save best RF model\n",
    "joblib.dump(gs.best_estimator_, 'models/best_random_forest.pkl')\n",
    "print('Saved best Random Forest model.')\n"
   ]
  },
  {
   "cell_type": "code",
   "execution_count": 4,
   "id": "6f1094a9",
   "metadata": {},
   "outputs": [
    {
     "name": "stdout",
     "output_type": "stream",
     "text": [
      "Best SVM params: {'kernel': 'linear', 'gamma': 'scale', 'C': 1}\n",
      "Best SVM AUC: 0.9127485140397622\n"
     ]
    }
   ],
   "source": [
    "svc = SVC(probability=True, random_state=42)\n",
    "param_dist = {\n",
    "    'C': [0.1, 1, 10],\n",
    "    'kernel': ['rbf', 'linear'],\n",
    "    'gamma': ['scale', 'auto']\n",
    "}\n",
    "\n",
    "rs = RandomizedSearchCV(\n",
    "    svc,\n",
    "    param_distributions=param_dist,\n",
    "    n_iter=6,\n",
    "    cv=4,\n",
    "    scoring='roc_auc',\n",
    "    n_jobs=-1,\n",
    "    random_state=42\n",
    ")\n",
    "\n",
    "rs.fit(X, y)\n",
    "print('Best SVM params:', rs.best_params_)\n",
    "print('Best SVM AUC:', rs.best_score_)\n"
   ]
  },
  {
   "cell_type": "code",
   "execution_count": 5,
   "id": "3374e599",
   "metadata": {},
   "outputs": [
    {
     "name": "stdout",
     "output_type": "stream",
     "text": [
      "Saved best SVM model.\n"
     ]
    }
   ],
   "source": [
    "joblib.dump(rs.best_estimator_, 'models/best_svm.pkl')\n",
    "print('Saved best SVM model.')"
   ]
  }
 ],
 "metadata": {
  "kernelspec": {
   "display_name": "Python 3",
   "language": "python",
   "name": "python3"
  },
  "language_info": {
   "codemirror_mode": {
    "name": "ipython",
    "version": 3
   },
   "file_extension": ".py",
   "mimetype": "text/x-python",
   "name": "python",
   "nbconvert_exporter": "python",
   "pygments_lexer": "ipython3",
   "version": "3.9.13"
  }
 },
 "nbformat": 4,
 "nbformat_minor": 5
}
