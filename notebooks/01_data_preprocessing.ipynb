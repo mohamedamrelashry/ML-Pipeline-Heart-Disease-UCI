{
 "cells": [
  {
   "cell_type": "code",
   "execution_count": 9,
   "id": "da7d49a2",
   "metadata": {},
   "outputs": [],
   "source": [
    "import pandas as pd\n",
    "import numpy as np\n",
    "from sklearn.impute import SimpleImputer\n",
    "from sklearn.preprocessing import StandardScaler, OneHotEncoder\n",
    "from sklearn.compose import ColumnTransformer\n",
    "from sklearn.pipeline import Pipeline\n",
    "from sklearn.model_selection import train_test_split\n",
    "import joblib"
   ]
  },
  {
   "cell_type": "code",
   "execution_count": 19,
   "id": "88b37739",
   "metadata": {},
   "outputs": [
    {
     "name": "stdout",
     "output_type": "stream",
     "text": [
      "Targets head:\n",
      "   num\n",
      "0    0\n",
      "1    2\n",
      "2    1\n",
      "3    0\n",
      "4    0\n",
      "Target column names: ['num']\n",
      "Final dataset shape: (303, 14)\n",
      "   age  sex  cp  trestbps  chol  fbs  restecg  thalach  exang  oldpeak  slope  \\\n",
      "0   63    1   1       145   233    1        2      150      0      2.3      3   \n",
      "1   67    1   4       160   286    0        2      108      1      1.5      2   \n",
      "2   67    1   4       120   229    0        2      129      1      2.6      2   \n",
      "3   37    1   3       130   250    0        0      187      0      3.5      3   \n",
      "4   41    0   2       130   204    0        2      172      0      1.4      1   \n",
      "\n",
      "    ca  thal  target  \n",
      "0  0.0   6.0       0  \n",
      "1  3.0   3.0       1  \n",
      "2  2.0   7.0       1  \n",
      "3  0.0   3.0       0  \n",
      "4  0.0   3.0       0  \n"
     ]
    }
   ],
   "source": [
    "from ucimlrepo import fetch_ucirepo\n",
    "import pandas as pd\n",
    "\n",
    "# Fetch dataset\n",
    "heart_disease = fetch_ucirepo(id=45)\n",
    "\n",
    "X = heart_disease.data.features\n",
    "y = heart_disease.data.targets\n",
    "\n",
    "print(\"Targets head:\")\n",
    "print(y.head())\n",
    "\n",
    "# In this dataset, the column is usually named 'num'\n",
    "print(\"Target column names:\", y.columns.tolist())\n",
    "\n",
    "# Convert to binary target (0 = no disease, 1 = disease)\n",
    "y_binary = y.copy()\n",
    "y_binary['target'] = (y_binary['num'] > 0).astype(int)\n",
    "y_binary = y_binary[['target']]  # keep only the new column\n",
    "\n",
    "# Merge features + target\n",
    "df = pd.concat([X, y_binary], axis=1)\n",
    "df.to_csv(\"data/heart_disease.csv\", index=False)\n",
    "\n",
    "print(\"Final dataset shape:\", df.shape)\n",
    "print(df.head())\n"
   ]
  },
  {
   "cell_type": "code",
   "execution_count": 20,
   "id": "79ff41dd",
   "metadata": {},
   "outputs": [],
   "source": [
    "DATA_PATH = 'data/heart_disease.csv' # update if needed\n",
    "PROCESSED_PATH = 'data/heart_processed.csv'\n",
    "PIPELINE_PATH = 'models/preprocessing_pipeline.pkl'"
   ]
  },
  {
   "cell_type": "code",
   "execution_count": 21,
   "id": "1e88bfb9",
   "metadata": {},
   "outputs": [
    {
     "name": "stdout",
     "output_type": "stream",
     "text": [
      "Initial shape: (303, 14)\n"
     ]
    }
   ],
   "source": [
    "df = pd.read_csv(DATA_PATH)\n",
    "print('Initial shape:', df.shape)"
   ]
  },
  {
   "cell_type": "code",
   "execution_count": 22,
   "id": "e8d03541",
   "metadata": {},
   "outputs": [
    {
     "name": "stdout",
     "output_type": "stream",
     "text": [
      "   age  sex  cp  trestbps  chol  fbs  restecg  thalach  exang  oldpeak  slope  \\\n",
      "0   63    1   1       145   233    1        2      150      0      2.3      3   \n",
      "1   67    1   4       160   286    0        2      108      1      1.5      2   \n",
      "2   67    1   4       120   229    0        2      129      1      2.6      2   \n",
      "3   37    1   3       130   250    0        0      187      0      3.5      3   \n",
      "4   41    0   2       130   204    0        2      172      0      1.4      1   \n",
      "\n",
      "    ca  thal  target  \n",
      "0  0.0   6.0       0  \n",
      "1  3.0   3.0       1  \n",
      "2  2.0   7.0       1  \n",
      "3  0.0   3.0       0  \n",
      "4  0.0   3.0       0  \n",
      "<class 'pandas.core.frame.DataFrame'>\n",
      "RangeIndex: 303 entries, 0 to 302\n",
      "Data columns (total 14 columns):\n",
      " #   Column    Non-Null Count  Dtype  \n",
      "---  ------    --------------  -----  \n",
      " 0   age       303 non-null    int64  \n",
      " 1   sex       303 non-null    int64  \n",
      " 2   cp        303 non-null    int64  \n",
      " 3   trestbps  303 non-null    int64  \n",
      " 4   chol      303 non-null    int64  \n",
      " 5   fbs       303 non-null    int64  \n",
      " 6   restecg   303 non-null    int64  \n",
      " 7   thalach   303 non-null    int64  \n",
      " 8   exang     303 non-null    int64  \n",
      " 9   oldpeak   303 non-null    float64\n",
      " 10  slope     303 non-null    int64  \n",
      " 11  ca        299 non-null    float64\n",
      " 12  thal      301 non-null    float64\n",
      " 13  target    303 non-null    int64  \n",
      "dtypes: float64(3), int64(11)\n",
      "memory usage: 33.3 KB\n",
      "None\n",
      "              age         sex          cp    trestbps        chol         fbs  \\\n",
      "count  303.000000  303.000000  303.000000  303.000000  303.000000  303.000000   \n",
      "mean    54.438944    0.679868    3.158416  131.689769  246.693069    0.148515   \n",
      "std      9.038662    0.467299    0.960126   17.599748   51.776918    0.356198   \n",
      "min     29.000000    0.000000    1.000000   94.000000  126.000000    0.000000   \n",
      "25%     48.000000    0.000000    3.000000  120.000000  211.000000    0.000000   \n",
      "50%     56.000000    1.000000    3.000000  130.000000  241.000000    0.000000   \n",
      "75%     61.000000    1.000000    4.000000  140.000000  275.000000    0.000000   \n",
      "max     77.000000    1.000000    4.000000  200.000000  564.000000    1.000000   \n",
      "\n",
      "          restecg     thalach       exang     oldpeak       slope          ca  \\\n",
      "count  303.000000  303.000000  303.000000  303.000000  303.000000  299.000000   \n",
      "mean     0.990099  149.607261    0.326733    1.039604    1.600660    0.672241   \n",
      "std      0.994971   22.875003    0.469794    1.161075    0.616226    0.937438   \n",
      "min      0.000000   71.000000    0.000000    0.000000    1.000000    0.000000   \n",
      "25%      0.000000  133.500000    0.000000    0.000000    1.000000    0.000000   \n",
      "50%      1.000000  153.000000    0.000000    0.800000    2.000000    0.000000   \n",
      "75%      2.000000  166.000000    1.000000    1.600000    2.000000    1.000000   \n",
      "max      2.000000  202.000000    1.000000    6.200000    3.000000    3.000000   \n",
      "\n",
      "             thal      target  \n",
      "count  301.000000  303.000000  \n",
      "mean     4.734219    0.458746  \n",
      "std      1.939706    0.499120  \n",
      "min      3.000000    0.000000  \n",
      "25%      3.000000    0.000000  \n",
      "50%      3.000000    0.000000  \n",
      "75%      7.000000    1.000000  \n",
      "max      7.000000    1.000000  \n"
     ]
    }
   ],
   "source": [
    "print(df.head())\n",
    "print(df.info())\n",
    "print(df.describe())"
   ]
  },
  {
   "cell_type": "code",
   "execution_count": 24,
   "id": "34aaaf9e",
   "metadata": {},
   "outputs": [],
   "source": [
    "\n",
    "# Separate features and target\n",
    "X = df.drop(columns=['target'])\n",
    "y = df['target']"
   ]
  },
  {
   "cell_type": "code",
   "execution_count": 27,
   "id": "09bfe39f",
   "metadata": {},
   "outputs": [
    {
     "name": "stdout",
     "output_type": "stream",
     "text": [
      "Numeric cols: ['age', 'trestbps', 'chol', 'thalach', 'oldpeak']\n",
      "Categorical cols: ['sex', 'cp', 'fbs', 'restecg', 'exang', 'slope', 'ca', 'thal']\n"
     ]
    }
   ],
   "source": [
    "numeric_cols = X.select_dtypes(include=['int64','float64']).columns.tolist()\n",
    "cat_cols = X.select_dtypes(include=['object','category']).columns.tolist()\n",
    "# Some integer columns may be categorical (e.g., 'sex','cp','slope','ca','thal')\n",
    "# Override if present:\n",
    "for c in ['sex','cp','fbs','restecg','exang','slope','ca','thal']:\n",
    "\tif c in numeric_cols:\n",
    "\t\tnumeric_cols.remove(c)\n",
    "\t\tcat_cols.append(c)\n",
    "\n",
    "print('Numeric cols:', numeric_cols)\n",
    "print('Categorical cols:', cat_cols)"
   ]
  },
  {
   "cell_type": "code",
   "execution_count": 29,
   "id": "3305e25f",
   "metadata": {},
   "outputs": [],
   "source": [
    "numeric_transformer = Pipeline(steps=[\n",
    "('imputer', SimpleImputer(strategy='median')),\n",
    "('scaler', StandardScaler())\n",
    "])\n",
    "cat_transformer = Pipeline(steps=[\n",
    "('imputer', SimpleImputer(strategy='most_frequent')),\n",
    "('onehot', OneHotEncoder(handle_unknown='ignore', sparse_output=False))\n",
    "])\n",
    "\n",
    "\n",
    "preprocessor = ColumnTransformer(transformers=[\n",
    "('num', numeric_transformer, numeric_cols),\n",
    "('cat', cat_transformer, cat_cols)\n",
    "])"
   ]
  },
  {
   "cell_type": "code",
   "execution_count": 30,
   "id": "640b0ae2",
   "metadata": {},
   "outputs": [],
   "source": [
    "X_processed = preprocessor.fit_transform(X)"
   ]
  },
  {
   "cell_type": "code",
   "execution_count": 32,
   "id": "e1d73de4",
   "metadata": {},
   "outputs": [
    {
     "name": "stdout",
     "output_type": "stream",
     "text": [
      "Saved processed data to data/heart_processed.csv\n",
      "Saved preprocessing pipeline to models/preprocessing_pipeline.pkl\n"
     ]
    }
   ],
   "source": [
    "ohe_cols = []\n",
    "if cat_cols:\n",
    "    try:\n",
    "        ohe_names = preprocessor.named_transformers_['cat']['onehot'].get_feature_names_out(cat_cols)\n",
    "        ohe_cols = ohe_names.tolist()\n",
    "    except Exception:\n",
    "        ohe_cols = cat_cols\n",
    "\n",
    "\n",
    "processed_cols = numeric_cols + ohe_cols\n",
    "\n",
    "\n",
    "X_proc_df = pd.DataFrame(X_processed, columns=processed_cols)\n",
    "processed_df = pd.concat([X_proc_df.reset_index(drop=True), y.reset_index(drop=True)], axis=1)\n",
    "\n",
    "\n",
    "import os\n",
    "\n",
    "# Ensure the directory for PIPELINE_PATH exists\n",
    "os.makedirs(os.path.dirname(PIPELINE_PATH), exist_ok=True)\n",
    "\n",
    "processed_df.to_csv(PROCESSED_PATH, index=False)\n",
    "joblib.dump(preprocessor, PIPELINE_PATH)\n",
    "print('Saved processed data to', PROCESSED_PATH)\n",
    "print('Saved preprocessing pipeline to', PIPELINE_PATH)"
   ]
  }
 ],
 "metadata": {
  "kernelspec": {
   "display_name": "Python 3",
   "language": "python",
   "name": "python3"
  },
  "language_info": {
   "codemirror_mode": {
    "name": "ipython",
    "version": 3
   },
   "file_extension": ".py",
   "mimetype": "text/x-python",
   "name": "python",
   "nbconvert_exporter": "python",
   "pygments_lexer": "ipython3",
   "version": "3.9.13"
  }
 },
 "nbformat": 4,
 "nbformat_minor": 5
}
